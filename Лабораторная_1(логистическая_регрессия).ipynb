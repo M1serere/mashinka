{
  "nbformat": 4,
  "nbformat_minor": 0,
  "metadata": {
    "colab": {
      "provenance": [],
      "toc_visible": true,
      "include_colab_link": true
    },
    "kernelspec": {
      "name": "python3",
      "display_name": "Python 3"
    },
    "language_info": {
      "name": "python"
    }
  },
  "cells": [
    {
      "cell_type": "markdown",
      "metadata": {
        "id": "view-in-github",
        "colab_type": "text"
      },
      "source": [
        "<a href=\"https://colab.research.google.com/github/M1serere/mashinka/blob/main/%D0%9B%D0%B0%D0%B1%D0%BE%D1%80%D0%B0%D1%82%D0%BE%D1%80%D0%BD%D0%B0%D1%8F_1(%D0%BB%D0%BE%D0%B3%D0%B8%D1%81%D1%82%D0%B8%D1%87%D0%B5%D1%81%D0%BA%D0%B0%D1%8F_%D1%80%D0%B5%D0%B3%D1%80%D0%B5%D1%81%D1%81%D0%B8%D1%8F).ipynb\" target=\"_parent\"><img src=\"https://colab.research.google.com/assets/colab-badge.svg\" alt=\"Open In Colab\"/></a>"
      ]
    },
    {
      "cell_type": "markdown",
      "source": [
        "# Описание лабораторной."
      ],
      "metadata": {
        "id": "oY3HD3eyIyC7"
      }
    },
    {
      "cell_type": "markdown",
      "source": [
        "Задача бинарной классификации, необходимо реализовать следующий пайплайн:\n",
        "1.\tПервичный анализ (посмотреть кол-во объектов в выборке, кол-во признаков их тип, проверить баланс классов, посмотреть процент пропущенных значений в каждом признаке, посмотреть выбросы, проверить выборку на наличие дубликатов)\n",
        "2.\tПредобработка данных (устранение выбросов, дубликатов, заполнение пропущенных значений)\n",
        "3.\tРазбиение на обучающую/контрольную выборки, стандартизация\n",
        "4.\tОбучить модель логистической регрессии\n",
        "5.\tОценить качество модели\n",
        "\n",
        "\n",
        "Разбалловка:\n",
        "*   **Воспроизводимость и читабельность кода - 3 балла** (все воспроизвелось и все понятно для проверяющего - 3 балла; есть непонятные моменты, но все воспроизвелось - 2 балла; непонятный код и/или воспроизводится с небольшой правкой - 1 балл; непонятный код и/или ничего не воспроизвелось - 0 баллов).\n",
        "*   **Выполнение задания - (7 / (кол-во невыполненных пунктов + 1)) баллов**.\n"
      ],
      "metadata": {
        "id": "rRly-JkgJOo_"
      }
    },
    {
      "cell_type": "markdown",
      "metadata": {
        "id": "b09d7a19-5848-43f4-9d91-f35d4e8614b0"
      },
      "source": [
        "# 1. Информация о сабмите"
      ]
    },
    {
      "cell_type": "markdown",
      "metadata": {
        "id": "cc8a4e09-62cc-43fd-a7a7-3e9d55ec13b2"
      },
      "source": [
        "**ФИО**"
      ]
    },
    {
      "cell_type": "markdown",
      "metadata": {
        "id": "1af498ab-3c00-4d36-a962-c947862fede8"
      },
      "source": [
        "# 2. Code"
      ]
    },
    {
      "cell_type": "markdown",
      "source": [
        "## 2.1 Первичный анализ (посмотреть кол-во объектов в выборке, кол-во признаков их тип, проверить баланс классов, посмотреть процент пропущенных значений в каждом признаке, посмотреть выбросы, проверить выборку на наличие дубликатов)\n",
        "**Используйте pandas**"
      ],
      "metadata": {
        "id": "KauTLHY9JPTv"
      }
    },
    {
      "cell_type": "code",
      "source": [
        "import pandas as pd"
      ],
      "metadata": {
        "id": "cWPUAhkxLzOO"
      },
      "execution_count": null,
      "outputs": []
    },
    {
      "cell_type": "code",
      "source": [
        "!gdown --id 1TlSSbvuDrD6tS6oemEd6Cl6N2nts-uVa"
      ],
      "metadata": {
        "colab": {
          "base_uri": "https://localhost:8080/"
        },
        "id": "a4ZwUuQAT86k",
        "outputId": "24d5aa5b-4a53-4da2-c150-82ff64b9cf16"
      },
      "execution_count": null,
      "outputs": [
        {
          "output_type": "stream",
          "name": "stdout",
          "text": [
            "/usr/local/lib/python3.10/dist-packages/gdown/__main__.py:140: FutureWarning: Option `--id` was deprecated in version 4.3.1 and will be removed in 5.0. You don't need to pass it anymore to use a file ID.\n",
            "  warnings.warn(\n",
            "Downloading...\n",
            "From (original): https://drive.google.com/uc?id=1TlSSbvuDrD6tS6oemEd6Cl6N2nts-uVa\n",
            "From (redirected): https://drive.google.com/uc?id=1TlSSbvuDrD6tS6oemEd6Cl6N2nts-uVa&confirm=t&uuid=1dbbce29-78ce-4be3-879b-f175bf1bdf35\n",
            "To: /content/data.csv\n",
            "100% 140M/140M [00:03<00:00, 39.2MB/s]\n"
          ]
        }
      ]
    },
    {
      "cell_type": "code",
      "source": [
        "df = pd.read_csv('data.csv')"
      ],
      "metadata": {
        "id": "F2FXm1cDL2EO"
      },
      "execution_count": null,
      "outputs": []
    },
    {
      "cell_type": "code",
      "source": [
        "# Ответ(целевая переменная) - target, остальные колонки - признаки (все признаки, которые не являются числовыми, можно удалить)\n",
        "df.head(5)"
      ],
      "metadata": {
        "colab": {
          "base_uri": "https://localhost:8080/",
          "height": 255
        },
        "id": "j-L1Hb7yMTC6",
        "outputId": "cddf1c61-85b8-4a6f-90dd-1abf5dec9a70"
      },
      "execution_count": null,
      "outputs": [
        {
          "output_type": "execute_result",
          "data": {
            "text/plain": [
              "   reco_id_curr  target contract_type_name gender own_car_flag  \\\n",
              "0        384575       0         Cash loans      M            Y   \n",
              "1        214010       0         Cash loans      F            Y   \n",
              "2        142232       0         Cash loans      F            Y   \n",
              "3        389171       0         Cash loans      F            N   \n",
              "4        283617       0         Cash loans      M            N   \n",
              "\n",
              "  own_realty_flag  children_count    income  loan_body  annuity_payment  ...  \\\n",
              "0               N               2  207000.0   465457.5          52641.0  ...   \n",
              "1               Y               0  247500.0  1281712.5          48946.5  ...   \n",
              "2               N               0  202500.0   495000.0          39109.5  ...   \n",
              "3               Y               0  247500.0   254700.0          24939.0  ...   \n",
              "4               Y               0  112500.0   308133.0          15862.5  ...   \n",
              "\n",
              "   document_18_flag document_19_flag document_20_flag document_21_flag  \\\n",
              "0                 0                0                0                0   \n",
              "1                 0                0                0                0   \n",
              "2                 0                0                0                0   \n",
              "3                 0                0                0                0   \n",
              "4                 0                0                0                0   \n",
              "\n",
              "  requests_bki_hour requests_bki_day  requests_bki_week  requests_bki_month  \\\n",
              "0               0.0              0.0                0.0                 1.0   \n",
              "1               0.0              0.0                0.0                 1.0   \n",
              "2               0.0              0.0                0.0                 1.0   \n",
              "3               0.0              0.0                0.0                 0.0   \n",
              "4               0.0              0.0                0.0                 0.0   \n",
              "\n",
              "   requests_bki_qrt  requests_bki_year  \n",
              "0               0.0                1.0  \n",
              "1               0.0                3.0  \n",
              "2               0.0                3.0  \n",
              "3               0.0                0.0  \n",
              "4               0.0                4.0  \n",
              "\n",
              "[5 rows x 122 columns]"
            ],
            "text/html": [
              "\n",
              "  <div id=\"df-a474a084-07a6-44fa-bd20-6becc1235118\" class=\"colab-df-container\">\n",
              "    <div>\n",
              "<style scoped>\n",
              "    .dataframe tbody tr th:only-of-type {\n",
              "        vertical-align: middle;\n",
              "    }\n",
              "\n",
              "    .dataframe tbody tr th {\n",
              "        vertical-align: top;\n",
              "    }\n",
              "\n",
              "    .dataframe thead th {\n",
              "        text-align: right;\n",
              "    }\n",
              "</style>\n",
              "<table border=\"1\" class=\"dataframe\">\n",
              "  <thead>\n",
              "    <tr style=\"text-align: right;\">\n",
              "      <th></th>\n",
              "      <th>reco_id_curr</th>\n",
              "      <th>target</th>\n",
              "      <th>contract_type_name</th>\n",
              "      <th>gender</th>\n",
              "      <th>own_car_flag</th>\n",
              "      <th>own_realty_flag</th>\n",
              "      <th>children_count</th>\n",
              "      <th>income</th>\n",
              "      <th>loan_body</th>\n",
              "      <th>annuity_payment</th>\n",
              "      <th>...</th>\n",
              "      <th>document_18_flag</th>\n",
              "      <th>document_19_flag</th>\n",
              "      <th>document_20_flag</th>\n",
              "      <th>document_21_flag</th>\n",
              "      <th>requests_bki_hour</th>\n",
              "      <th>requests_bki_day</th>\n",
              "      <th>requests_bki_week</th>\n",
              "      <th>requests_bki_month</th>\n",
              "      <th>requests_bki_qrt</th>\n",
              "      <th>requests_bki_year</th>\n",
              "    </tr>\n",
              "  </thead>\n",
              "  <tbody>\n",
              "    <tr>\n",
              "      <th>0</th>\n",
              "      <td>384575</td>\n",
              "      <td>0</td>\n",
              "      <td>Cash loans</td>\n",
              "      <td>M</td>\n",
              "      <td>Y</td>\n",
              "      <td>N</td>\n",
              "      <td>2</td>\n",
              "      <td>207000.0</td>\n",
              "      <td>465457.5</td>\n",
              "      <td>52641.0</td>\n",
              "      <td>...</td>\n",
              "      <td>0</td>\n",
              "      <td>0</td>\n",
              "      <td>0</td>\n",
              "      <td>0</td>\n",
              "      <td>0.0</td>\n",
              "      <td>0.0</td>\n",
              "      <td>0.0</td>\n",
              "      <td>1.0</td>\n",
              "      <td>0.0</td>\n",
              "      <td>1.0</td>\n",
              "    </tr>\n",
              "    <tr>\n",
              "      <th>1</th>\n",
              "      <td>214010</td>\n",
              "      <td>0</td>\n",
              "      <td>Cash loans</td>\n",
              "      <td>F</td>\n",
              "      <td>Y</td>\n",
              "      <td>Y</td>\n",
              "      <td>0</td>\n",
              "      <td>247500.0</td>\n",
              "      <td>1281712.5</td>\n",
              "      <td>48946.5</td>\n",
              "      <td>...</td>\n",
              "      <td>0</td>\n",
              "      <td>0</td>\n",
              "      <td>0</td>\n",
              "      <td>0</td>\n",
              "      <td>0.0</td>\n",
              "      <td>0.0</td>\n",
              "      <td>0.0</td>\n",
              "      <td>1.0</td>\n",
              "      <td>0.0</td>\n",
              "      <td>3.0</td>\n",
              "    </tr>\n",
              "    <tr>\n",
              "      <th>2</th>\n",
              "      <td>142232</td>\n",
              "      <td>0</td>\n",
              "      <td>Cash loans</td>\n",
              "      <td>F</td>\n",
              "      <td>Y</td>\n",
              "      <td>N</td>\n",
              "      <td>0</td>\n",
              "      <td>202500.0</td>\n",
              "      <td>495000.0</td>\n",
              "      <td>39109.5</td>\n",
              "      <td>...</td>\n",
              "      <td>0</td>\n",
              "      <td>0</td>\n",
              "      <td>0</td>\n",
              "      <td>0</td>\n",
              "      <td>0.0</td>\n",
              "      <td>0.0</td>\n",
              "      <td>0.0</td>\n",
              "      <td>1.0</td>\n",
              "      <td>0.0</td>\n",
              "      <td>3.0</td>\n",
              "    </tr>\n",
              "    <tr>\n",
              "      <th>3</th>\n",
              "      <td>389171</td>\n",
              "      <td>0</td>\n",
              "      <td>Cash loans</td>\n",
              "      <td>F</td>\n",
              "      <td>N</td>\n",
              "      <td>Y</td>\n",
              "      <td>0</td>\n",
              "      <td>247500.0</td>\n",
              "      <td>254700.0</td>\n",
              "      <td>24939.0</td>\n",
              "      <td>...</td>\n",
              "      <td>0</td>\n",
              "      <td>0</td>\n",
              "      <td>0</td>\n",
              "      <td>0</td>\n",
              "      <td>0.0</td>\n",
              "      <td>0.0</td>\n",
              "      <td>0.0</td>\n",
              "      <td>0.0</td>\n",
              "      <td>0.0</td>\n",
              "      <td>0.0</td>\n",
              "    </tr>\n",
              "    <tr>\n",
              "      <th>4</th>\n",
              "      <td>283617</td>\n",
              "      <td>0</td>\n",
              "      <td>Cash loans</td>\n",
              "      <td>M</td>\n",
              "      <td>N</td>\n",
              "      <td>Y</td>\n",
              "      <td>0</td>\n",
              "      <td>112500.0</td>\n",
              "      <td>308133.0</td>\n",
              "      <td>15862.5</td>\n",
              "      <td>...</td>\n",
              "      <td>0</td>\n",
              "      <td>0</td>\n",
              "      <td>0</td>\n",
              "      <td>0</td>\n",
              "      <td>0.0</td>\n",
              "      <td>0.0</td>\n",
              "      <td>0.0</td>\n",
              "      <td>0.0</td>\n",
              "      <td>0.0</td>\n",
              "      <td>4.0</td>\n",
              "    </tr>\n",
              "  </tbody>\n",
              "</table>\n",
              "<p>5 rows × 122 columns</p>\n",
              "</div>\n",
              "    <div class=\"colab-df-buttons\">\n",
              "\n",
              "  <div class=\"colab-df-container\">\n",
              "    <button class=\"colab-df-convert\" onclick=\"convertToInteractive('df-a474a084-07a6-44fa-bd20-6becc1235118')\"\n",
              "            title=\"Convert this dataframe to an interactive table.\"\n",
              "            style=\"display:none;\">\n",
              "\n",
              "  <svg xmlns=\"http://www.w3.org/2000/svg\" height=\"24px\" viewBox=\"0 -960 960 960\">\n",
              "    <path d=\"M120-120v-720h720v720H120Zm60-500h600v-160H180v160Zm220 220h160v-160H400v160Zm0 220h160v-160H400v160ZM180-400h160v-160H180v160Zm440 0h160v-160H620v160ZM180-180h160v-160H180v160Zm440 0h160v-160H620v160Z\"/>\n",
              "  </svg>\n",
              "    </button>\n",
              "\n",
              "  <style>\n",
              "    .colab-df-container {\n",
              "      display:flex;\n",
              "      gap: 12px;\n",
              "    }\n",
              "\n",
              "    .colab-df-convert {\n",
              "      background-color: #E8F0FE;\n",
              "      border: none;\n",
              "      border-radius: 50%;\n",
              "      cursor: pointer;\n",
              "      display: none;\n",
              "      fill: #1967D2;\n",
              "      height: 32px;\n",
              "      padding: 0 0 0 0;\n",
              "      width: 32px;\n",
              "    }\n",
              "\n",
              "    .colab-df-convert:hover {\n",
              "      background-color: #E2EBFA;\n",
              "      box-shadow: 0px 1px 2px rgba(60, 64, 67, 0.3), 0px 1px 3px 1px rgba(60, 64, 67, 0.15);\n",
              "      fill: #174EA6;\n",
              "    }\n",
              "\n",
              "    .colab-df-buttons div {\n",
              "      margin-bottom: 4px;\n",
              "    }\n",
              "\n",
              "    [theme=dark] .colab-df-convert {\n",
              "      background-color: #3B4455;\n",
              "      fill: #D2E3FC;\n",
              "    }\n",
              "\n",
              "    [theme=dark] .colab-df-convert:hover {\n",
              "      background-color: #434B5C;\n",
              "      box-shadow: 0px 1px 3px 1px rgba(0, 0, 0, 0.15);\n",
              "      filter: drop-shadow(0px 1px 2px rgba(0, 0, 0, 0.3));\n",
              "      fill: #FFFFFF;\n",
              "    }\n",
              "  </style>\n",
              "\n",
              "    <script>\n",
              "      const buttonEl =\n",
              "        document.querySelector('#df-a474a084-07a6-44fa-bd20-6becc1235118 button.colab-df-convert');\n",
              "      buttonEl.style.display =\n",
              "        google.colab.kernel.accessAllowed ? 'block' : 'none';\n",
              "\n",
              "      async function convertToInteractive(key) {\n",
              "        const element = document.querySelector('#df-a474a084-07a6-44fa-bd20-6becc1235118');\n",
              "        const dataTable =\n",
              "          await google.colab.kernel.invokeFunction('convertToInteractive',\n",
              "                                                    [key], {});\n",
              "        if (!dataTable) return;\n",
              "\n",
              "        const docLinkHtml = 'Like what you see? Visit the ' +\n",
              "          '<a target=\"_blank\" href=https://colab.research.google.com/notebooks/data_table.ipynb>data table notebook</a>'\n",
              "          + ' to learn more about interactive tables.';\n",
              "        element.innerHTML = '';\n",
              "        dataTable['output_type'] = 'display_data';\n",
              "        await google.colab.output.renderOutput(dataTable, element);\n",
              "        const docLink = document.createElement('div');\n",
              "        docLink.innerHTML = docLinkHtml;\n",
              "        element.appendChild(docLink);\n",
              "      }\n",
              "    </script>\n",
              "  </div>\n",
              "\n",
              "\n",
              "<div id=\"df-accf6097-7e7f-4ca1-808e-74887faf8438\">\n",
              "  <button class=\"colab-df-quickchart\" onclick=\"quickchart('df-accf6097-7e7f-4ca1-808e-74887faf8438')\"\n",
              "            title=\"Suggest charts\"\n",
              "            style=\"display:none;\">\n",
              "\n",
              "<svg xmlns=\"http://www.w3.org/2000/svg\" height=\"24px\"viewBox=\"0 0 24 24\"\n",
              "     width=\"24px\">\n",
              "    <g>\n",
              "        <path d=\"M19 3H5c-1.1 0-2 .9-2 2v14c0 1.1.9 2 2 2h14c1.1 0 2-.9 2-2V5c0-1.1-.9-2-2-2zM9 17H7v-7h2v7zm4 0h-2V7h2v10zm4 0h-2v-4h2v4z\"/>\n",
              "    </g>\n",
              "</svg>\n",
              "  </button>\n",
              "\n",
              "<style>\n",
              "  .colab-df-quickchart {\n",
              "      --bg-color: #E8F0FE;\n",
              "      --fill-color: #1967D2;\n",
              "      --hover-bg-color: #E2EBFA;\n",
              "      --hover-fill-color: #174EA6;\n",
              "      --disabled-fill-color: #AAA;\n",
              "      --disabled-bg-color: #DDD;\n",
              "  }\n",
              "\n",
              "  [theme=dark] .colab-df-quickchart {\n",
              "      --bg-color: #3B4455;\n",
              "      --fill-color: #D2E3FC;\n",
              "      --hover-bg-color: #434B5C;\n",
              "      --hover-fill-color: #FFFFFF;\n",
              "      --disabled-bg-color: #3B4455;\n",
              "      --disabled-fill-color: #666;\n",
              "  }\n",
              "\n",
              "  .colab-df-quickchart {\n",
              "    background-color: var(--bg-color);\n",
              "    border: none;\n",
              "    border-radius: 50%;\n",
              "    cursor: pointer;\n",
              "    display: none;\n",
              "    fill: var(--fill-color);\n",
              "    height: 32px;\n",
              "    padding: 0;\n",
              "    width: 32px;\n",
              "  }\n",
              "\n",
              "  .colab-df-quickchart:hover {\n",
              "    background-color: var(--hover-bg-color);\n",
              "    box-shadow: 0 1px 2px rgba(60, 64, 67, 0.3), 0 1px 3px 1px rgba(60, 64, 67, 0.15);\n",
              "    fill: var(--button-hover-fill-color);\n",
              "  }\n",
              "\n",
              "  .colab-df-quickchart-complete:disabled,\n",
              "  .colab-df-quickchart-complete:disabled:hover {\n",
              "    background-color: var(--disabled-bg-color);\n",
              "    fill: var(--disabled-fill-color);\n",
              "    box-shadow: none;\n",
              "  }\n",
              "\n",
              "  .colab-df-spinner {\n",
              "    border: 2px solid var(--fill-color);\n",
              "    border-color: transparent;\n",
              "    border-bottom-color: var(--fill-color);\n",
              "    animation:\n",
              "      spin 1s steps(1) infinite;\n",
              "  }\n",
              "\n",
              "  @keyframes spin {\n",
              "    0% {\n",
              "      border-color: transparent;\n",
              "      border-bottom-color: var(--fill-color);\n",
              "      border-left-color: var(--fill-color);\n",
              "    }\n",
              "    20% {\n",
              "      border-color: transparent;\n",
              "      border-left-color: var(--fill-color);\n",
              "      border-top-color: var(--fill-color);\n",
              "    }\n",
              "    30% {\n",
              "      border-color: transparent;\n",
              "      border-left-color: var(--fill-color);\n",
              "      border-top-color: var(--fill-color);\n",
              "      border-right-color: var(--fill-color);\n",
              "    }\n",
              "    40% {\n",
              "      border-color: transparent;\n",
              "      border-right-color: var(--fill-color);\n",
              "      border-top-color: var(--fill-color);\n",
              "    }\n",
              "    60% {\n",
              "      border-color: transparent;\n",
              "      border-right-color: var(--fill-color);\n",
              "    }\n",
              "    80% {\n",
              "      border-color: transparent;\n",
              "      border-right-color: var(--fill-color);\n",
              "      border-bottom-color: var(--fill-color);\n",
              "    }\n",
              "    90% {\n",
              "      border-color: transparent;\n",
              "      border-bottom-color: var(--fill-color);\n",
              "    }\n",
              "  }\n",
              "</style>\n",
              "\n",
              "  <script>\n",
              "    async function quickchart(key) {\n",
              "      const quickchartButtonEl =\n",
              "        document.querySelector('#' + key + ' button');\n",
              "      quickchartButtonEl.disabled = true;  // To prevent multiple clicks.\n",
              "      quickchartButtonEl.classList.add('colab-df-spinner');\n",
              "      try {\n",
              "        const charts = await google.colab.kernel.invokeFunction(\n",
              "            'suggestCharts', [key], {});\n",
              "      } catch (error) {\n",
              "        console.error('Error during call to suggestCharts:', error);\n",
              "      }\n",
              "      quickchartButtonEl.classList.remove('colab-df-spinner');\n",
              "      quickchartButtonEl.classList.add('colab-df-quickchart-complete');\n",
              "    }\n",
              "    (() => {\n",
              "      let quickchartButtonEl =\n",
              "        document.querySelector('#df-accf6097-7e7f-4ca1-808e-74887faf8438 button');\n",
              "      quickchartButtonEl.style.display =\n",
              "        google.colab.kernel.accessAllowed ? 'block' : 'none';\n",
              "    })();\n",
              "  </script>\n",
              "</div>\n",
              "    </div>\n",
              "  </div>\n"
            ],
            "application/vnd.google.colaboratory.intrinsic+json": {
              "type": "dataframe",
              "variable_name": "df"
            }
          },
          "metadata": {},
          "execution_count": 4
        }
      ]
    },
    {
      "cell_type": "code",
      "source": [
        "# Пример нахождения всех признаков не являющихся числовыми\n",
        "for i in df.columns:\n",
        "    if df[i].dtype.name not in ['float64', 'int64']:\n",
        "        print(i)"
      ],
      "metadata": {
        "colab": {
          "base_uri": "https://localhost:8080/"
        },
        "id": "Hi9hotS4ODT2",
        "outputId": "76f7a2da-27a1-4352-a83b-d0eaeaef6be8"
      },
      "execution_count": null,
      "outputs": [
        {
          "output_type": "stream",
          "name": "stdout",
          "text": [
            "contract_type_name\n",
            "gender\n",
            "own_car_flag\n",
            "own_realty_flag\n",
            "type_suite_name\n",
            "income_type_name\n",
            "education_type_name\n",
            "family_status_name\n",
            "housing_type_name\n",
            "type_of_occupation\n",
            "start_weekday_appr_process\n",
            "type_of_organization\n",
            "fondkapremon_mode\n",
            "mode_house_type\n",
            "mode_walls_material\n",
            "emergency_state_mode\n"
          ]
        }
      ]
    },
    {
      "cell_type": "markdown",
      "source": [
        "## 2.2 Предобработка данных (устранение выбросов, дубликатов, заполнение пропущенных значений)\n",
        "**Используйте pandas**\n",
        "\n",
        "**пропущенные значения можно заполнить: средним, медианой, модой, нулями и т.д. (можете поэкспериментировать)**"
      ],
      "metadata": {
        "id": "xdvVBl8nJaJR"
      }
    },
    {
      "cell_type": "markdown",
      "source": [
        "## 2.3 Разбиение на обучающую/контрольную выборки, стандартизация\n",
        "**Используйте train_test_split из sklearn**\n",
        "\n",
        "**Для стандартизации используйте sklearn.preprocessing StandartScaler**"
      ],
      "metadata": {
        "id": "gacIeVzqNBj2"
      }
    },
    {
      "cell_type": "markdown",
      "source": [
        "## 2.4 Обучить модель логистической регрессии\n",
        "**Используйте LogisticRegression из sklearn.linear_model**\n"
      ],
      "metadata": {
        "id": "OApTGIRPNXAe"
      }
    },
    {
      "cell_type": "markdown",
      "source": [
        "## 2.5 Оценить качество модели\n",
        "**Используйте accuracy_score, precision_score, recall_score и f1_score из sklearn.metrics**"
      ],
      "metadata": {
        "id": "qlNKzG5aNnJh"
      }
    },
    {
      "cell_type": "markdown",
      "metadata": {
        "id": "H8C1VOgbIysk"
      },
      "source": [
        "# 3. Обратная связь\n",
        "**Опишите здесь что было не понятно/вызвало наибольшие трудности в задании, о чем стоит рассказать подробнее на занятиях**\n"
      ]
    },
    {
      "cell_type": "code",
      "source": [],
      "metadata": {
        "id": "ON-dAPauJFEA"
      },
      "execution_count": null,
      "outputs": []
    }
  ]
}